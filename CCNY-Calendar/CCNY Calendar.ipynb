{
 "cells": [
  {
   "cell_type": "code",
   "execution_count": null,
   "id": "d6f7c29d-79b6-4b04-a6f6-abbf7cae6357",
   "metadata": {},
   "outputs": [],
   "source": [
    "import requests\n",
    "from bs4 import BeautifulSoup\n",
    "import pandas as pd\n",
    "from datetime import datetime"
   ]
  },
  {
   "cell_type": "code",
   "execution_count": null,
   "id": "35a32225",
   "metadata": {},
   "outputs": [],
   "source": [
    "url = \"https://www.ccny.cuny.edu/registrar/fall\"\n",
    "response = requests.get(url)\n",
    "soup = BeautifulSoup(response.content, \"html.parser\")\n",
    "\n",
    "tr_tag = soup.find_all('tr')\n",
    "print(\"Number of rows found:\", len(tr_tag))"
   ]
  },
  {
   "cell_type": "code",
   "execution_count": null,
   "id": "6877fc5e",
   "metadata": {},
   "outputs": [],
   "source": [
    "rows = []\n",
    "for table in soup.find_all(\"table\"):\n",
    "    for tr in table.find_all(\"tr\"):\n",
    "        tds = tr.find_all(\"td\")\n",
    "        if len(tds) >= 3:\n",
    "            date = tds[0].get_text(\" \", strip=True)\n",
    "            dow  = tds[1].get_text(\" \", strip=True)\n",
    "            text = tds[2].get_text(\"; \", strip=True)\n",
    "            rows.append([date, dow, text])"
   ]
  }
 ],
 "metadata": {
  "kernelspec": {
   "display_name": "Python 3",
   "language": "python",
   "name": "python3"
  },
  "language_info": {
   "codemirror_mode": {
    "name": "ipython",
    "version": 3
   },
   "file_extension": ".py",
   "mimetype": "text/x-python",
   "name": "python",
   "nbconvert_exporter": "python",
   "pygments_lexer": "ipython3",
   "version": "3.12.10"
  }
 },
 "nbformat": 4,
 "nbformat_minor": 5
}
