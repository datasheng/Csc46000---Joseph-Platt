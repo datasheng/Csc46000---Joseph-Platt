{
 "cells": [
  {
   "cell_type": "code",
   "execution_count": 47,
   "id": "d6f7c29d-79b6-4b04-a6f6-abbf7cae6357",
   "metadata": {},
   "outputs": [],
   "source": [
    "import requests\n",
    "from bs4 import BeautifulSoup\n",
    "import pandas as pd\n",
    "from datetime import datetime"
   ]
  },
  {
   "cell_type": "code",
   "execution_count": 48,
   "id": "35a32225",
   "metadata": {},
   "outputs": [
    {
     "name": "stdout",
     "output_type": "stream",
     "text": [
      "Number of rows found: 37\n"
     ]
    }
   ],
   "source": [
    "url = \"https://www.ccny.cuny.edu/registrar/fall\"\n",
    "response = requests.get(url)\n",
    "soup = BeautifulSoup(response.content, \"html.parser\")\n",
    "\n",
    "tr_tag = soup.find_all('tr')\n",
    "print(\"Number of rows found:\", len(tr_tag))"
   ]
  },
  {
   "cell_type": "code",
   "execution_count": 49,
   "id": "6877fc5e",
   "metadata": {},
   "outputs": [],
   "source": [
    "rows = []\n",
    "for table in soup.find_all(\"table\"):\n",
    "    for tr in table.find_all(\"tr\"):\n",
    "        tds = tr.find_all(\"td\")\n",
    "        if len(tds) >= 3:\n",
    "            date = tds[0].get_text(\" \", strip=True)\n",
    "            dow  = tds[1].get_text(\" \", strip=True)\n",
    "            text = tds[2].get_text(\"; \", strip=True)\n",
    "            rows.append([date, dow, text])"
   ]
  },
  {
   "cell_type": "code",
   "execution_count": 50,
   "id": "cd582ab7",
   "metadata": {},
   "outputs": [
    {
     "name": "stdout",
     "output_type": "stream",
     "text": [
      "                                    dow  \\\n",
      "date                                      \n",
      "August 01                        Sunday   \n",
      "August 18                     Wednesday   \n",
      "August 24                       Tuesday   \n",
      "August 25                     Wednesday   \n",
      "August 25 - 31      Wednesday - Tuesday   \n",
      "August 26                      Thursday   \n",
      "August 28                      Saturday   \n",
      "August 31                       Tuesday   \n",
      "September 01                  Wednesday   \n",
      "September 03 - 08    Friday - Wednesday   \n",
      "September 06                     Monday   \n",
      "September 09                   Thursday   \n",
      "September 14                    Tuesday   \n",
      "September 15                  Wednesday   \n",
      "September 15 - 16  Wednesday - Thursday   \n",
      "September 23                   Thursday   \n",
      "September 24                     Friday   \n",
      "October 01                       Friday   \n",
      "October 08                       Friday   \n",
      "October 11                       Monday   \n",
      "November 01                      Monday   \n",
      "November 02                     Tuesday   \n",
      "November 04                    Thursday   \n",
      "November 06                    Saturday   \n",
      "November 23                     Tuesday   \n",
      "November 25 - 28      Thursday - Sunday   \n",
      "December 11                    Saturday   \n",
      "December 13                      Monday   \n",
      "December 14                     Tuesday   \n",
      "December 15 - 21    Wednesday - Tuesday   \n",
      "December 21                     Tuesday   \n",
      "December 24 - 25      Friday - Saturday   \n",
      "December 27                      Monday   \n",
      "December 28                     Tuesday   \n",
      "December 31                      Friday   \n",
      "January 1, 2022                Saturday   \n",
      "\n",
      "                                                                text  \n",
      "date                                                                  \n",
      "August 01          Application for degree for January and Februar...  \n",
      "August 18                         Last day to apply for Study Abroad  \n",
      "August 24          Last day of Registration;; Last day to file eP...  \n",
      "August 25          Start of Fall Term;; Classes begin;; Initial R...  \n",
      "August 25 - 31             Change of program period; late fees apply  \n",
      "August 26                             Last day for Independent Study  \n",
      "August 28                              First day of Saturday Classes  \n",
      "August 31          Last day to add a class to an existing enrollm...  \n",
      "September 01       Verification of Enrollment rosters available t...  \n",
      "September 03 - 08                               No classes scheduled  \n",
      "September 06       College Closed;; Last day for 50% tuition refund;  \n",
      "September 09                                    Freshman Convocation  \n",
      "September 14       Last day for 25% tuition refund;; Census date;...  \n",
      "September 15       Assignment of 'WN' grades for non-attendance;;...  \n",
      "September 15 - 16                               No classes scheduled  \n",
      "September 23       Last day to submit proof of immunization for N...  \n",
      "September 24       Assignment of 'WA' grades for immunization non...  \n",
      "October 01         Advising month begins for Spring and Winter en...  \n",
      "October 08         Deadline for filing application for degree for...  \n",
      "October 11                                            College Closed  \n",
      "November 01        'INC' grades for Spring 2021 and Winter 2021 f...  \n",
      "November 02        Registration appointments for Winter and Sprin...  \n",
      "November 04                         Last day to file for P/NC option  \n",
      "November 06                                     60% Date of the term  \n",
      "November 23        'INC' grades for Summer 2021 for Undergraduate...  \n",
      "November 25 - 28                                      College Closed  \n",
      "December 11                             Last day of Saturday Classes  \n",
      "December 13        Course Withdrawal period ends (Last day to wit...  \n",
      "December 14                                              Reading Day  \n",
      "December 15 - 21                                  Final Examinations  \n",
      "December 21                                              End of Term  \n",
      "December 24 - 25                                      College Closed  \n",
      "December 27                                           College Closed  \n",
      "December 28            Final Grade Submission Deadline for Fall 2021  \n",
      "December 31                                           College Closed  \n",
      "January 1, 2022    College Closed;; Fall 2021 Degree Conferral Date;  \n",
      "(36, 2)\n"
     ]
    }
   ],
   "source": [
    "df = pd.DataFrame(rows, columns=[\"date\", \"dow\", \"text\"])\n",
    "df.set_index(\"date\", inplace=True)\n",
    "print(df)\n",
    "print(df.shape)"
   ]
  }
 ],
 "metadata": {
  "kernelspec": {
   "display_name": "Python 3",
   "language": "python",
   "name": "python3"
  },
  "language_info": {
   "codemirror_mode": {
    "name": "ipython",
    "version": 3
   },
   "file_extension": ".py",
   "mimetype": "text/x-python",
   "name": "python",
   "nbconvert_exporter": "python",
   "pygments_lexer": "ipython3",
   "version": "3.12.10"
  }
 },
 "nbformat": 4,
 "nbformat_minor": 5
}
